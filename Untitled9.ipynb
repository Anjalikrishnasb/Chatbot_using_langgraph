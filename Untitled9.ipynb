{
  "nbformat": 4,
  "nbformat_minor": 0,
  "metadata": {
    "colab": {
      "provenance": []
    },
    "kernelspec": {
      "name": "python3",
      "display_name": "Python 3"
    },
    "language_info": {
      "name": "python"
    }
  },
  "cells": [
    {
      "cell_type": "code",
      "execution_count": 23,
      "metadata": {
        "id": "idMxnKXncXHI"
      },
      "outputs": [],
      "source": [
        "###Chatbot with Langgraph"
      ]
    },
    {
      "cell_type": "code",
      "source": [
        "!pip install langgraph langsmith"
      ],
      "metadata": {
        "colab": {
          "base_uri": "https://localhost:8080/"
        },
        "id": "dUTbFsFhcg_F",
        "outputId": "8c2d0aac-edad-48c1-b3de-789b7709d38e"
      },
      "execution_count": 24,
      "outputs": [
        {
          "output_type": "stream",
          "name": "stdout",
          "text": [
            "Requirement already satisfied: langgraph in /usr/local/lib/python3.10/dist-packages (0.2.52)\n",
            "Requirement already satisfied: langsmith in /usr/local/lib/python3.10/dist-packages (0.1.143)\n",
            "Requirement already satisfied: langchain-core!=0.3.0,!=0.3.1,!=0.3.10,!=0.3.11,!=0.3.12,!=0.3.13,!=0.3.14,!=0.3.2,!=0.3.3,!=0.3.4,!=0.3.5,!=0.3.6,!=0.3.7,!=0.3.8,!=0.3.9,<0.4.0,>=0.2.43 in /usr/local/lib/python3.10/dist-packages (from langgraph) (0.3.18)\n",
            "Requirement already satisfied: langgraph-checkpoint<3.0.0,>=2.0.4 in /usr/local/lib/python3.10/dist-packages (from langgraph) (2.0.5)\n",
            "Requirement already satisfied: langgraph-sdk<0.2.0,>=0.1.32 in /usr/local/lib/python3.10/dist-packages (from langgraph) (0.1.36)\n",
            "Requirement already satisfied: httpx<1,>=0.23.0 in /usr/local/lib/python3.10/dist-packages (from langsmith) (0.27.2)\n",
            "Requirement already satisfied: orjson<4.0.0,>=3.9.14 in /usr/local/lib/python3.10/dist-packages (from langsmith) (3.10.11)\n",
            "Requirement already satisfied: pydantic<3,>=1 in /usr/local/lib/python3.10/dist-packages (from langsmith) (2.9.2)\n",
            "Requirement already satisfied: requests<3,>=2 in /usr/local/lib/python3.10/dist-packages (from langsmith) (2.32.3)\n",
            "Requirement already satisfied: requests-toolbelt<2.0.0,>=1.0.0 in /usr/local/lib/python3.10/dist-packages (from langsmith) (1.0.0)\n",
            "Requirement already satisfied: anyio in /usr/local/lib/python3.10/dist-packages (from httpx<1,>=0.23.0->langsmith) (3.7.1)\n",
            "Requirement already satisfied: certifi in /usr/local/lib/python3.10/dist-packages (from httpx<1,>=0.23.0->langsmith) (2024.8.30)\n",
            "Requirement already satisfied: httpcore==1.* in /usr/local/lib/python3.10/dist-packages (from httpx<1,>=0.23.0->langsmith) (1.0.6)\n",
            "Requirement already satisfied: idna in /usr/local/lib/python3.10/dist-packages (from httpx<1,>=0.23.0->langsmith) (3.10)\n",
            "Requirement already satisfied: sniffio in /usr/local/lib/python3.10/dist-packages (from httpx<1,>=0.23.0->langsmith) (1.3.1)\n",
            "Requirement already satisfied: h11<0.15,>=0.13 in /usr/local/lib/python3.10/dist-packages (from httpcore==1.*->httpx<1,>=0.23.0->langsmith) (0.14.0)\n",
            "Requirement already satisfied: PyYAML>=5.3 in /usr/local/lib/python3.10/dist-packages (from langchain-core!=0.3.0,!=0.3.1,!=0.3.10,!=0.3.11,!=0.3.12,!=0.3.13,!=0.3.14,!=0.3.2,!=0.3.3,!=0.3.4,!=0.3.5,!=0.3.6,!=0.3.7,!=0.3.8,!=0.3.9,<0.4.0,>=0.2.43->langgraph) (6.0.2)\n",
            "Requirement already satisfied: jsonpatch<2.0,>=1.33 in /usr/local/lib/python3.10/dist-packages (from langchain-core!=0.3.0,!=0.3.1,!=0.3.10,!=0.3.11,!=0.3.12,!=0.3.13,!=0.3.14,!=0.3.2,!=0.3.3,!=0.3.4,!=0.3.5,!=0.3.6,!=0.3.7,!=0.3.8,!=0.3.9,<0.4.0,>=0.2.43->langgraph) (1.33)\n",
            "Requirement already satisfied: packaging<25,>=23.2 in /usr/local/lib/python3.10/dist-packages (from langchain-core!=0.3.0,!=0.3.1,!=0.3.10,!=0.3.11,!=0.3.12,!=0.3.13,!=0.3.14,!=0.3.2,!=0.3.3,!=0.3.4,!=0.3.5,!=0.3.6,!=0.3.7,!=0.3.8,!=0.3.9,<0.4.0,>=0.2.43->langgraph) (24.2)\n",
            "Requirement already satisfied: tenacity!=8.4.0,<10.0.0,>=8.1.0 in /usr/local/lib/python3.10/dist-packages (from langchain-core!=0.3.0,!=0.3.1,!=0.3.10,!=0.3.11,!=0.3.12,!=0.3.13,!=0.3.14,!=0.3.2,!=0.3.3,!=0.3.4,!=0.3.5,!=0.3.6,!=0.3.7,!=0.3.8,!=0.3.9,<0.4.0,>=0.2.43->langgraph) (9.0.0)\n",
            "Requirement already satisfied: typing-extensions>=4.7 in /usr/local/lib/python3.10/dist-packages (from langchain-core!=0.3.0,!=0.3.1,!=0.3.10,!=0.3.11,!=0.3.12,!=0.3.13,!=0.3.14,!=0.3.2,!=0.3.3,!=0.3.4,!=0.3.5,!=0.3.6,!=0.3.7,!=0.3.8,!=0.3.9,<0.4.0,>=0.2.43->langgraph) (4.12.2)\n",
            "Requirement already satisfied: msgpack<2.0.0,>=1.1.0 in /usr/local/lib/python3.10/dist-packages (from langgraph-checkpoint<3.0.0,>=2.0.4->langgraph) (1.1.0)\n",
            "Requirement already satisfied: httpx-sse>=0.4.0 in /usr/local/lib/python3.10/dist-packages (from langgraph-sdk<0.2.0,>=0.1.32->langgraph) (0.4.0)\n",
            "Requirement already satisfied: annotated-types>=0.6.0 in /usr/local/lib/python3.10/dist-packages (from pydantic<3,>=1->langsmith) (0.7.0)\n",
            "Requirement already satisfied: pydantic-core==2.23.4 in /usr/local/lib/python3.10/dist-packages (from pydantic<3,>=1->langsmith) (2.23.4)\n",
            "Requirement already satisfied: charset-normalizer<4,>=2 in /usr/local/lib/python3.10/dist-packages (from requests<3,>=2->langsmith) (3.4.0)\n",
            "Requirement already satisfied: urllib3<3,>=1.21.1 in /usr/local/lib/python3.10/dist-packages (from requests<3,>=2->langsmith) (2.2.3)\n",
            "Requirement already satisfied: jsonpointer>=1.9 in /usr/local/lib/python3.10/dist-packages (from jsonpatch<2.0,>=1.33->langchain-core!=0.3.0,!=0.3.1,!=0.3.10,!=0.3.11,!=0.3.12,!=0.3.13,!=0.3.14,!=0.3.2,!=0.3.3,!=0.3.4,!=0.3.5,!=0.3.6,!=0.3.7,!=0.3.8,!=0.3.9,<0.4.0,>=0.2.43->langgraph) (3.0.0)\n",
            "Requirement already satisfied: exceptiongroup in /usr/local/lib/python3.10/dist-packages (from anyio->httpx<1,>=0.23.0->langsmith) (1.2.2)\n"
          ]
        }
      ]
    },
    {
      "cell_type": "code",
      "source": [
        "  !pip install langchain langchain_groq langchain_community"
      ],
      "metadata": {
        "colab": {
          "base_uri": "https://localhost:8080/"
        },
        "id": "Y9oArhiDefLj",
        "outputId": "7e8e32d7-7c5f-4533-dc41-b145b337e16d"
      },
      "execution_count": 25,
      "outputs": [
        {
          "output_type": "stream",
          "name": "stdout",
          "text": [
            "Requirement already satisfied: langchain in /usr/local/lib/python3.10/dist-packages (0.3.7)\n",
            "Requirement already satisfied: langchain_groq in /usr/local/lib/python3.10/dist-packages (0.2.1)\n",
            "Requirement already satisfied: langchain_community in /usr/local/lib/python3.10/dist-packages (0.3.7)\n",
            "Requirement already satisfied: PyYAML>=5.3 in /usr/local/lib/python3.10/dist-packages (from langchain) (6.0.2)\n",
            "Requirement already satisfied: SQLAlchemy<3,>=1.4 in /usr/local/lib/python3.10/dist-packages (from langchain) (2.0.35)\n",
            "Requirement already satisfied: aiohttp<4.0.0,>=3.8.3 in /usr/local/lib/python3.10/dist-packages (from langchain) (3.11.1)\n",
            "Requirement already satisfied: async-timeout<5.0.0,>=4.0.0 in /usr/local/lib/python3.10/dist-packages (from langchain) (4.0.3)\n",
            "Requirement already satisfied: langchain-core<0.4.0,>=0.3.15 in /usr/local/lib/python3.10/dist-packages (from langchain) (0.3.18)\n",
            "Requirement already satisfied: langchain-text-splitters<0.4.0,>=0.3.0 in /usr/local/lib/python3.10/dist-packages (from langchain) (0.3.2)\n",
            "Requirement already satisfied: langsmith<0.2.0,>=0.1.17 in /usr/local/lib/python3.10/dist-packages (from langchain) (0.1.143)\n",
            "Requirement already satisfied: numpy<2,>=1 in /usr/local/lib/python3.10/dist-packages (from langchain) (1.26.4)\n",
            "Requirement already satisfied: pydantic<3.0.0,>=2.7.4 in /usr/local/lib/python3.10/dist-packages (from langchain) (2.9.2)\n",
            "Requirement already satisfied: requests<3,>=2 in /usr/local/lib/python3.10/dist-packages (from langchain) (2.32.3)\n",
            "Requirement already satisfied: tenacity!=8.4.0,<10,>=8.1.0 in /usr/local/lib/python3.10/dist-packages (from langchain) (9.0.0)\n",
            "Requirement already satisfied: groq<1,>=0.4.1 in /usr/local/lib/python3.10/dist-packages (from langchain_groq) (0.12.0)\n",
            "Requirement already satisfied: dataclasses-json<0.7,>=0.5.7 in /usr/local/lib/python3.10/dist-packages (from langchain_community) (0.6.7)\n",
            "Requirement already satisfied: httpx-sse<0.5.0,>=0.4.0 in /usr/local/lib/python3.10/dist-packages (from langchain_community) (0.4.0)\n",
            "Requirement already satisfied: pydantic-settings<3.0.0,>=2.4.0 in /usr/local/lib/python3.10/dist-packages (from langchain_community) (2.6.1)\n",
            "Requirement already satisfied: aiohappyeyeballs>=2.3.0 in /usr/local/lib/python3.10/dist-packages (from aiohttp<4.0.0,>=3.8.3->langchain) (2.4.3)\n",
            "Requirement already satisfied: aiosignal>=1.1.2 in /usr/local/lib/python3.10/dist-packages (from aiohttp<4.0.0,>=3.8.3->langchain) (1.3.1)\n",
            "Requirement already satisfied: attrs>=17.3.0 in /usr/local/lib/python3.10/dist-packages (from aiohttp<4.0.0,>=3.8.3->langchain) (24.2.0)\n",
            "Requirement already satisfied: frozenlist>=1.1.1 in /usr/local/lib/python3.10/dist-packages (from aiohttp<4.0.0,>=3.8.3->langchain) (1.5.0)\n",
            "Requirement already satisfied: multidict<7.0,>=4.5 in /usr/local/lib/python3.10/dist-packages (from aiohttp<4.0.0,>=3.8.3->langchain) (6.1.0)\n",
            "Requirement already satisfied: propcache>=0.2.0 in /usr/local/lib/python3.10/dist-packages (from aiohttp<4.0.0,>=3.8.3->langchain) (0.2.0)\n",
            "Requirement already satisfied: yarl<2.0,>=1.17.0 in /usr/local/lib/python3.10/dist-packages (from aiohttp<4.0.0,>=3.8.3->langchain) (1.17.1)\n",
            "Requirement already satisfied: marshmallow<4.0.0,>=3.18.0 in /usr/local/lib/python3.10/dist-packages (from dataclasses-json<0.7,>=0.5.7->langchain_community) (3.23.1)\n",
            "Requirement already satisfied: typing-inspect<1,>=0.4.0 in /usr/local/lib/python3.10/dist-packages (from dataclasses-json<0.7,>=0.5.7->langchain_community) (0.9.0)\n",
            "Requirement already satisfied: anyio<5,>=3.5.0 in /usr/local/lib/python3.10/dist-packages (from groq<1,>=0.4.1->langchain_groq) (3.7.1)\n",
            "Requirement already satisfied: distro<2,>=1.7.0 in /usr/local/lib/python3.10/dist-packages (from groq<1,>=0.4.1->langchain_groq) (1.9.0)\n",
            "Requirement already satisfied: httpx<1,>=0.23.0 in /usr/local/lib/python3.10/dist-packages (from groq<1,>=0.4.1->langchain_groq) (0.27.2)\n",
            "Requirement already satisfied: sniffio in /usr/local/lib/python3.10/dist-packages (from groq<1,>=0.4.1->langchain_groq) (1.3.1)\n",
            "Requirement already satisfied: typing-extensions<5,>=4.7 in /usr/local/lib/python3.10/dist-packages (from groq<1,>=0.4.1->langchain_groq) (4.12.2)\n",
            "Requirement already satisfied: jsonpatch<2.0,>=1.33 in /usr/local/lib/python3.10/dist-packages (from langchain-core<0.4.0,>=0.3.15->langchain) (1.33)\n",
            "Requirement already satisfied: packaging<25,>=23.2 in /usr/local/lib/python3.10/dist-packages (from langchain-core<0.4.0,>=0.3.15->langchain) (24.2)\n",
            "Requirement already satisfied: orjson<4.0.0,>=3.9.14 in /usr/local/lib/python3.10/dist-packages (from langsmith<0.2.0,>=0.1.17->langchain) (3.10.11)\n",
            "Requirement already satisfied: requests-toolbelt<2.0.0,>=1.0.0 in /usr/local/lib/python3.10/dist-packages (from langsmith<0.2.0,>=0.1.17->langchain) (1.0.0)\n",
            "Requirement already satisfied: annotated-types>=0.6.0 in /usr/local/lib/python3.10/dist-packages (from pydantic<3.0.0,>=2.7.4->langchain) (0.7.0)\n",
            "Requirement already satisfied: pydantic-core==2.23.4 in /usr/local/lib/python3.10/dist-packages (from pydantic<3.0.0,>=2.7.4->langchain) (2.23.4)\n",
            "Requirement already satisfied: python-dotenv>=0.21.0 in /usr/local/lib/python3.10/dist-packages (from pydantic-settings<3.0.0,>=2.4.0->langchain_community) (1.0.1)\n",
            "Requirement already satisfied: charset-normalizer<4,>=2 in /usr/local/lib/python3.10/dist-packages (from requests<3,>=2->langchain) (3.4.0)\n",
            "Requirement already satisfied: idna<4,>=2.5 in /usr/local/lib/python3.10/dist-packages (from requests<3,>=2->langchain) (3.10)\n",
            "Requirement already satisfied: urllib3<3,>=1.21.1 in /usr/local/lib/python3.10/dist-packages (from requests<3,>=2->langchain) (2.2.3)\n",
            "Requirement already satisfied: certifi>=2017.4.17 in /usr/local/lib/python3.10/dist-packages (from requests<3,>=2->langchain) (2024.8.30)\n",
            "Requirement already satisfied: greenlet!=0.4.17 in /usr/local/lib/python3.10/dist-packages (from SQLAlchemy<3,>=1.4->langchain) (3.1.1)\n",
            "Requirement already satisfied: exceptiongroup in /usr/local/lib/python3.10/dist-packages (from anyio<5,>=3.5.0->groq<1,>=0.4.1->langchain_groq) (1.2.2)\n",
            "Requirement already satisfied: httpcore==1.* in /usr/local/lib/python3.10/dist-packages (from httpx<1,>=0.23.0->groq<1,>=0.4.1->langchain_groq) (1.0.6)\n",
            "Requirement already satisfied: h11<0.15,>=0.13 in /usr/local/lib/python3.10/dist-packages (from httpcore==1.*->httpx<1,>=0.23.0->groq<1,>=0.4.1->langchain_groq) (0.14.0)\n",
            "Requirement already satisfied: jsonpointer>=1.9 in /usr/local/lib/python3.10/dist-packages (from jsonpatch<2.0,>=1.33->langchain-core<0.4.0,>=0.3.15->langchain) (3.0.0)\n",
            "Requirement already satisfied: mypy-extensions>=0.3.0 in /usr/local/lib/python3.10/dist-packages (from typing-inspect<1,>=0.4.0->dataclasses-json<0.7,>=0.5.7->langchain_community) (1.0.0)\n"
          ]
        }
      ]
    },
    {
      "cell_type": "code",
      "source": [
        "from google.colab import userdata\n",
        "groq_api_key=userdata.get('groq_api_key')\n"
      ],
      "metadata": {
        "id": "RN_69H_HfE8a"
      },
      "execution_count": 36,
      "outputs": []
    },
    {
      "cell_type": "code",
      "source": [
        "langsmith=userdata.get('langsmith_api_key')\n"
      ],
      "metadata": {
        "id": "aHN5e4PZfKKA"
      },
      "execution_count": 37,
      "outputs": []
    },
    {
      "cell_type": "code",
      "source": [
        "import os\n",
        "os.environ['LANGCHAIN_API_KEY']=langsmith\n",
        "os.environ[\"LANGCHAIN_TRACING_V2\"]=\"true\"\n",
        "os.environ[\"LANGCHAIN_PROJECT\"]=\"CourseLanggraph\""
      ],
      "metadata": {
        "id": "QBeuMyyfhw4I"
      },
      "execution_count": 28,
      "outputs": []
    },
    {
      "cell_type": "code",
      "source": [
        "from langchain_groq import ChatGroq"
      ],
      "metadata": {
        "id": "rNSpU8KLiLgU"
      },
      "execution_count": 29,
      "outputs": []
    },
    {
      "cell_type": "code",
      "source": [
        "llm=ChatGroq(groq_api_key=groq_api_key,model_name=\"Gemma2-9b-It\")"
      ],
      "metadata": {
        "id": "bsHxac0ZiRBL"
      },
      "execution_count": 30,
      "outputs": []
    },
    {
      "cell_type": "code",
      "source": [
        "llm"
      ],
      "metadata": {
        "colab": {
          "base_uri": "https://localhost:8080/"
        },
        "id": "VXBs8lwxik2q",
        "outputId": "f25aa022-6642-4b3d-8812-b397f7da6151"
      },
      "execution_count": 31,
      "outputs": [
        {
          "output_type": "execute_result",
          "data": {
            "text/plain": [
              "ChatGroq(client=<groq.resources.chat.completions.Completions object at 0x7e3eab3e2a40>, async_client=<groq.resources.chat.completions.AsyncCompletions object at 0x7e3eab3e29e0>, model_name='Gemma2-9b-It', model_kwargs={}, groq_api_key=SecretStr('**********'))"
            ]
          },
          "metadata": {},
          "execution_count": 31
        }
      ]
    },
    {
      "cell_type": "code",
      "source": [
        "###Start building chatbot using langgraph"
      ],
      "metadata": {
        "id": "hXxJWg-DilUG"
      },
      "execution_count": 32,
      "outputs": []
    },
    {
      "cell_type": "code",
      "source": [
        "from typing import Annotated\n",
        "from typing_extensions import TypedDict\n",
        "from langgraph.graph import StateGraph,START,END\n",
        "from langgraph.graph.message import add_messages"
      ],
      "metadata": {
        "id": "1F27e1nlit2d"
      },
      "execution_count": 15,
      "outputs": []
    },
    {
      "cell_type": "code",
      "source": [
        "class State(TypedDict):\n",
        "  #messages have the type 'list'.The 'add_messages' function in the annotation defines how this state key should be updated , in this case,it appends messages to the list,rather than overwriting them.\n",
        "  messages:Annotated[list,add_messages]\n",
        "graph_builder=StateGraph(State)"
      ],
      "metadata": {
        "id": "ErMFptA21f30"
      },
      "execution_count": 16,
      "outputs": []
    },
    {
      "cell_type": "code",
      "source": [
        "graph_builder"
      ],
      "metadata": {
        "colab": {
          "base_uri": "https://localhost:8080/"
        },
        "id": "cIXf7BF13U7Y",
        "outputId": "12b2edd9-6af6-44e0-86a5-4789d4c36248"
      },
      "execution_count": 17,
      "outputs": [
        {
          "output_type": "execute_result",
          "data": {
            "text/plain": [
              "<langgraph.graph.state.StateGraph at 0x7e3eab4fdba0>"
            ]
          },
          "metadata": {},
          "execution_count": 17
        }
      ]
    },
    {
      "cell_type": "code",
      "source": [
        "def chatbot(state:State):\n",
        "  return {\"messages\":llm.invoke(state['messages'])}"
      ],
      "metadata": {
        "id": "Cza4WSRV3Yur"
      },
      "execution_count": 18,
      "outputs": []
    },
    {
      "cell_type": "code",
      "source": [
        "graph_builder.add_node(\"chatbot\",chatbot)"
      ],
      "metadata": {
        "colab": {
          "base_uri": "https://localhost:8080/"
        },
        "id": "yRoQQDtC35he",
        "outputId": "7c940498-7727-407c-edc5-fb8f09785440"
      },
      "execution_count": 19,
      "outputs": [
        {
          "output_type": "execute_result",
          "data": {
            "text/plain": [
              "<langgraph.graph.state.StateGraph at 0x7e3eab4fdba0>"
            ]
          },
          "metadata": {},
          "execution_count": 19
        }
      ]
    },
    {
      "cell_type": "code",
      "source": [
        " graph_builder.add_edge(START,\"chatbot\")\n",
        " graph_builder.add_edge(\"chatbot\",END)"
      ],
      "metadata": {
        "colab": {
          "base_uri": "https://localhost:8080/"
        },
        "id": "nTQAyEVf3-V3",
        "outputId": "16f5d4b0-8427-4876-e61d-5c681ccc4a08"
      },
      "execution_count": 20,
      "outputs": [
        {
          "output_type": "execute_result",
          "data": {
            "text/plain": [
              "<langgraph.graph.state.StateGraph at 0x7e3eab4fdba0>"
            ]
          },
          "metadata": {},
          "execution_count": 20
        }
      ]
    },
    {
      "cell_type": "code",
      "source": [
        "graph=graph_builder.compile()"
      ],
      "metadata": {
        "id": "xP8ZBM-o4euJ"
      },
      "execution_count": 21,
      "outputs": []
    },
    {
      "cell_type": "code",
      "source": [
        "from IPython.display import Image,display\n",
        "try:\n",
        "  display(Image(graph.get_graph().draw_mermaid_png()))\n",
        "except Exception:\n",
        "  pass"
      ],
      "metadata": {
        "colab": {
          "base_uri": "https://localhost:8080/",
          "height": 251
        },
        "id": "ZZRUJ5Tc4nL_",
        "outputId": "5c34076b-8a9a-489f-d756-28a2b4e62a25"
      },
      "execution_count": 33,
      "outputs": [
        {
          "output_type": "display_data",
          "data": {
            "image/png": "[encoded data removed]",
            "text/plain": [
              "<IPython.core.display.Image object>"
            ]
          },
          "metadata": {}
        }
      ]
    },
    {
      "cell_type": "code",
      "source": [
        "while True:\n",
        "  user_input=input(\"User: \")\n",
        "  if user_input.lower() in [\"quit\",\"q\"]:\n",
        "    print(\"Good Bye\")\n",
        "    break\n",
        "  for event in graph.stream({'messages':(\"user\",user_input)}):\n",
        "    print(event.values())\n",
        "    for value in event.values():\n",
        "      print(value['messages'])\n",
        "      print(\"Assistant:\",value[\"messages\"].content)\n"
      ],
      "metadata": {
        "colab": {
          "base_uri": "https://localhost:8080/"
        },
        "id": "c4QtWxmA5VyR",
        "outputId": "138ef83f-cb36-4134-d1e9-a4ae452d159e"
      },
      "execution_count": 35,
      "outputs": [
        {
          "output_type": "stream",
          "name": "stdout",
          "text": [
            "User: hello\n",
            "dict_values([{'messages': AIMessage(content='Hello! 👋  How can I help you today?\\n', additional_kwargs={}, response_metadata={'token_usage': {'completion_tokens': 14, 'prompt_tokens': 10, 'total_tokens': 24, 'completion_time': 0.025454545, 'prompt_time': 3.2e-07, 'queue_time': 0.014619108, 'total_time': 0.025454865}, 'model_name': 'Gemma2-9b-It', 'system_fingerprint': 'fp_10c08bf97d', 'finish_reason': 'stop', 'logprobs': None}, id='run-2cd2f532-d48e-4c57-998b-e136e0a2f9e5-0', usage_metadata={'input_tokens': 10, 'output_tokens': 14, 'total_tokens': 24})}])\n",
            "content='Hello! 👋  How can I help you today?\\n' additional_kwargs={} response_metadata={'token_usage': {'completion_tokens': 14, 'prompt_tokens': 10, 'total_tokens': 24, 'completion_time': 0.025454545, 'prompt_time': 3.2e-07, 'queue_time': 0.014619108, 'total_time': 0.025454865}, 'model_name': 'Gemma2-9b-It', 'system_fingerprint': 'fp_10c08bf97d', 'finish_reason': 'stop', 'logprobs': None} id='run-2cd2f532-d48e-4c57-998b-e136e0a2f9e5-0' usage_metadata={'input_tokens': 10, 'output_tokens': 14, 'total_tokens': 24}\n",
            "Assistant: Hello! 👋  How can I help you today?\n",
            "\n",
            "User: what is data science\n",
            "dict_values([{'messages': AIMessage(content=\"Data science is a multi-disciplinary field that uses scientific methods, processes, algorithms, and systems to extract knowledge and insights from structured and unstructured data. \\n\\nThink of it as a detective story for information.\\n\\n**Here's a breakdown:**\\n\\n**What data scientists do:**\\n\\n* **Collect data:** From various sources like databases, APIs, sensors, social media, etc.\\n* **Clean and prepare data:**  This often involves dealing with missing values, inconsistencies, and formatting issues.\\n* **Analyze data:** Using statistical methods, machine learning algorithms, and visualization tools to uncover patterns, trends, and relationships.\\n* **Build models:** Create predictive models or algorithms that can make predictions or decisions based on the data.\\n* **Communicate findings:**  Present insights and recommendations to stakeholders in a clear and understandable way.\\n\\n**Key components of data science:**\\n\\n* **Mathematics and Statistics:**  Provides the foundation for understanding data and building models.\\n* **Computer Science:**  Involves programming, algorithms, data structures, and software engineering.\\n* **Domain Expertise:**  Understanding the specific industry or problem domain is crucial for interpreting results and making relevant recommendations.\\n\\n**Applications of data science:**\\n\\nData science is used in a wide range of fields, including:\\n\\n* **Business:** Customer segmentation, marketing optimization, fraud detection, risk management.\\n* **Healthcare:** Disease prediction, personalized medicine, drug discovery.\\n* **Finance:** Credit scoring, stock market prediction, algorithmic trading.\\n* **Technology:** Recommender systems, natural language processing, computer vision.\\n* **Social Sciences:** Understanding social trends, analyzing public opinion, predicting elections.\\n\\n\\n**In essence, data science is about turning raw data into actionable knowledge.** It's a rapidly evolving field with immense potential to solve complex problems and drive innovation.\\n\", additional_kwargs={}, response_metadata={'token_usage': {'completion_tokens': 377, 'prompt_tokens': 13, 'total_tokens': 390, 'completion_time': 0.685454545, 'prompt_time': 9.842e-05, 'queue_time': 0.014383889, 'total_time': 0.685552965}, 'model_name': 'Gemma2-9b-It', 'system_fingerprint': 'fp_10c08bf97d', 'finish_reason': 'stop', 'logprobs': None}, id='run-912dd038-2f2f-4a9c-b2cb-af48a2fffeb7-0', usage_metadata={'input_tokens': 13, 'output_tokens': 377, 'total_tokens': 390})}])\n",
            "content=\"Data science is a multi-disciplinary field that uses scientific methods, processes, algorithms, and systems to extract knowledge and insights from structured and unstructured data. \\n\\nThink of it as a detective story for information.\\n\\n**Here's a breakdown:**\\n\\n**What data scientists do:**\\n\\n* **Collect data:** From various sources like databases, APIs, sensors, social media, etc.\\n* **Clean and prepare data:**  This often involves dealing with missing values, inconsistencies, and formatting issues.\\n* **Analyze data:** Using statistical methods, machine learning algorithms, and visualization tools to uncover patterns, trends, and relationships.\\n* **Build models:** Create predictive models or algorithms that can make predictions or decisions based on the data.\\n* **Communicate findings:**  Present insights and recommendations to stakeholders in a clear and understandable way.\\n\\n**Key components of data science:**\\n\\n* **Mathematics and Statistics:**  Provides the foundation for understanding data and building models.\\n* **Computer Science:**  Involves programming, algorithms, data structures, and software engineering.\\n* **Domain Expertise:**  Understanding the specific industry or problem domain is crucial for interpreting results and making relevant recommendations.\\n\\n**Applications of data science:**\\n\\nData science is used in a wide range of fields, including:\\n\\n* **Business:** Customer segmentation, marketing optimization, fraud detection, risk management.\\n* **Healthcare:** Disease prediction, personalized medicine, drug discovery.\\n* **Finance:** Credit scoring, stock market prediction, algorithmic trading.\\n* **Technology:** Recommender systems, natural language processing, computer vision.\\n* **Social Sciences:** Understanding social trends, analyzing public opinion, predicting elections.\\n\\n\\n**In essence, data science is about turning raw data into actionable knowledge.** It's a rapidly evolving field with immense potential to solve complex problems and drive innovation.\\n\" additional_kwargs={} response_metadata={'token_usage': {'completion_tokens': 377, 'prompt_tokens': 13, 'total_tokens': 390, 'completion_time': 0.685454545, 'prompt_time': 9.842e-05, 'queue_time': 0.014383889, 'total_time': 0.685552965}, 'model_name': 'Gemma2-9b-It', 'system_fingerprint': 'fp_10c08bf97d', 'finish_reason': 'stop', 'logprobs': None} id='run-912dd038-2f2f-4a9c-b2cb-af48a2fffeb7-0' usage_metadata={'input_tokens': 13, 'output_tokens': 377, 'total_tokens': 390}\n",
            "Assistant: Data science is a multi-disciplinary field that uses scientific methods, processes, algorithms, and systems to extract knowledge and insights from structured and unstructured data. \n",
            "\n",
            "Think of it as a detective story for information.\n",
            "\n",
            "**Here's a breakdown:**\n",
            "\n",
            "**What data scientists do:**\n",
            "\n",
            "* **Collect data:** From various sources like databases, APIs, sensors, social media, etc.\n",
            "* **Clean and prepare data:**  This often involves dealing with missing values, inconsistencies, and formatting issues.\n",
            "* **Analyze data:** Using statistical methods, machine learning algorithms, and visualization tools to uncover patterns, trends, and relationships.\n",
            "* **Build models:** Create predictive models or algorithms that can make predictions or decisions based on the data.\n",
            "* **Communicate findings:**  Present insights and recommendations to stakeholders in a clear and understandable way.\n",
            "\n",
            "**Key components of data science:**\n",
            "\n",
            "* **Mathematics and Statistics:**  Provides the foundation for understanding data and building models.\n",
            "* **Computer Science:**  Involves programming, algorithms, data structures, and software engineering.\n",
            "* **Domain Expertise:**  Understanding the specific industry or problem domain is crucial for interpreting results and making relevant recommendations.\n",
            "\n",
            "**Applications of data science:**\n",
            "\n",
            "Data science is used in a wide range of fields, including:\n",
            "\n",
            "* **Business:** Customer segmentation, marketing optimization, fraud detection, risk management.\n",
            "* **Healthcare:** Disease prediction, personalized medicine, drug discovery.\n",
            "* **Finance:** Credit scoring, stock market prediction, algorithmic trading.\n",
            "* **Technology:** Recommender systems, natural language processing, computer vision.\n",
            "* **Social Sciences:** Understanding social trends, analyzing public opinion, predicting elections.\n",
            "\n",
            "\n",
            "**In essence, data science is about turning raw data into actionable knowledge.** It's a rapidly evolving field with immense potential to solve complex problems and drive innovation.\n",
            "\n",
            "User: give a route map to become a data scientist\n",
            "dict_values([{'messages': AIMessage(content='##  Route Map to Become a Data Scientist:\\n\\nThis map outlines a general path, remember to personalize it based on your own strengths, interests, and learning style.\\n\\n**Phase 1: Foundation Building (6-12 Months)**\\n\\n* **Math & Statistics:**\\n    * **Calculus:**  Focus on derivatives, integrals, and multivariable calculus.\\n    * **Linear Algebra:**  Master matrices, vectors, eigenvalues, and eigenvectors.\\n    * **Probability & Statistics:**  Understand distributions, hypothesis testing, regression, and Bayesian inference.\\n    * **Resources:** Khan Academy, Coursera, edX, textbooks (e.g., \"Introduction to Statistical Learning\")\\n* **Programming:**\\n    * **Python:**  Learn syntax, data structures, libraries like NumPy, Pandas, Matplotlib, and Scikit-learn.\\n    * **R:**  (Optional) Explore for statistical analysis and visualization.\\n    * **Resources:** Codecademy, DataCamp, freeCodeCamp, \"Python for Data Analysis\" by McKinney.\\n\\n**Phase 2: Data Science Core (6-12 Months)**\\n\\n* **Machine Learning:**\\n    * **Supervised Learning:**  Regression, classification (logistic regression, decision trees, support vector machines, etc.).\\n    * **Unsupervised Learning:** Clustering, dimensionality reduction (PCA, t-SNE).\\n    * **Deep Learning:** (Optional) Neural networks, convolutional networks, recurrent networks.\\n    * **Resources:** Andrew Ng\\'s Machine Learning course (Coursera), \"Hands-On Machine Learning with Scikit-Learn, Keras & TensorFlow\" by Aurélien Géron.\\n* **Data Wrangling & Visualization:**\\n    * **Data Cleaning:**  Handling missing values, outliers, and inconsistencies.\\n    * **Data Transformation:** Feature engineering, scaling, encoding.\\n    * **Data Visualization:**  Creating informative charts and dashboards with libraries like Matplotlib, Seaborn, Plotly.\\n    * **Resources:** \"Data Science from Scratch\" by Joel Grus, \"Storytelling with Data\" by Cole Nussbaumer Knaflic.\\n\\n**Phase 3: Specialization & Portfolio (Ongoing)**\\n\\n* **Choose a Domain:**  Healthcare, finance, marketing, etc.\\n* **Deepen Expertise:**  Explore specialized algorithms, tools, and techniques relevant to your domain.\\n* **Build a Portfolio:**\\n    * **Personal Projects:**  Solve real-world problems using data science techniques.\\n    * **Kaggle Competitions:**  Participate in data science challenges to gain experience and recognition.\\n    * **Open-Source Contributions:**  Contribute to data science libraries or projects.\\n\\n**Phase 4: Career Development**\\n\\n* **Networking:**  Attend meetups, conferences, and online communities.\\n* **Job Searching:**  Tailor your resume and portfolio to specific job descriptions.\\n* **Interview Preparation:**  Practice technical and behavioral interview questions.\\n* **Continuous Learning:**  Stay up-to-date with the latest trends and technologies in data science.\\n\\n**Bonus Tips:**\\n\\n* **Find a Mentor:**  Connect with experienced data scientists for guidance and support.\\n* **Learn by Doing:**  Apply what you learn to real-world projects as much as possible.\\n* **Be Persistent:**  Data science is a challenging field, but with dedication and hard work, you can achieve your goals.\\n\\n\\nRemember, this is a roadmap, not a rigid plan.  Adapt it to your own journey and enjoy the learning process!\\n', additional_kwargs={}, response_metadata={'token_usage': {'completion_tokens': 732, 'prompt_tokens': 18, 'total_tokens': 750, 'completion_time': 1.330909091, 'prompt_time': 0.00012532, 'queue_time': 0.01460101, 'total_time': 1.331034411}, 'model_name': 'Gemma2-9b-It', 'system_fingerprint': 'fp_10c08bf97d', 'finish_reason': 'stop', 'logprobs': None}, id='run-eb745d4a-c2b9-401d-a0cc-b4bb743a8ec6-0', usage_metadata={'input_tokens': 18, 'output_tokens': 732, 'total_tokens': 750})}])\n",
            "content='##  Route Map to Become a Data Scientist:\\n\\nThis map outlines a general path, remember to personalize it based on your own strengths, interests, and learning style.\\n\\n**Phase 1: Foundation Building (6-12 Months)**\\n\\n* **Math & Statistics:**\\n    * **Calculus:**  Focus on derivatives, integrals, and multivariable calculus.\\n    * **Linear Algebra:**  Master matrices, vectors, eigenvalues, and eigenvectors.\\n    * **Probability & Statistics:**  Understand distributions, hypothesis testing, regression, and Bayesian inference.\\n    * **Resources:** Khan Academy, Coursera, edX, textbooks (e.g., \"Introduction to Statistical Learning\")\\n* **Programming:**\\n    * **Python:**  Learn syntax, data structures, libraries like NumPy, Pandas, Matplotlib, and Scikit-learn.\\n    * **R:**  (Optional) Explore for statistical analysis and visualization.\\n    * **Resources:** Codecademy, DataCamp, freeCodeCamp, \"Python for Data Analysis\" by McKinney.\\n\\n**Phase 2: Data Science Core (6-12 Months)**\\n\\n* **Machine Learning:**\\n    * **Supervised Learning:**  Regression, classification (logistic regression, decision trees, support vector machines, etc.).\\n    * **Unsupervised Learning:** Clustering, dimensionality reduction (PCA, t-SNE).\\n    * **Deep Learning:** (Optional) Neural networks, convolutional networks, recurrent networks.\\n    * **Resources:** Andrew Ng\\'s Machine Learning course (Coursera), \"Hands-On Machine Learning with Scikit-Learn, Keras & TensorFlow\" by Aurélien Géron.\\n* **Data Wrangling & Visualization:**\\n    * **Data Cleaning:**  Handling missing values, outliers, and inconsistencies.\\n    * **Data Transformation:** Feature engineering, scaling, encoding.\\n    * **Data Visualization:**  Creating informative charts and dashboards with libraries like Matplotlib, Seaborn, Plotly.\\n    * **Resources:** \"Data Science from Scratch\" by Joel Grus, \"Storytelling with Data\" by Cole Nussbaumer Knaflic.\\n\\n**Phase 3: Specialization & Portfolio (Ongoing)**\\n\\n* **Choose a Domain:**  Healthcare, finance, marketing, etc.\\n* **Deepen Expertise:**  Explore specialized algorithms, tools, and techniques relevant to your domain.\\n* **Build a Portfolio:**\\n    * **Personal Projects:**  Solve real-world problems using data science techniques.\\n    * **Kaggle Competitions:**  Participate in data science challenges to gain experience and recognition.\\n    * **Open-Source Contributions:**  Contribute to data science libraries or projects.\\n\\n**Phase 4: Career Development**\\n\\n* **Networking:**  Attend meetups, conferences, and online communities.\\n* **Job Searching:**  Tailor your resume and portfolio to specific job descriptions.\\n* **Interview Preparation:**  Practice technical and behavioral interview questions.\\n* **Continuous Learning:**  Stay up-to-date with the latest trends and technologies in data science.\\n\\n**Bonus Tips:**\\n\\n* **Find a Mentor:**  Connect with experienced data scientists for guidance and support.\\n* **Learn by Doing:**  Apply what you learn to real-world projects as much as possible.\\n* **Be Persistent:**  Data science is a challenging field, but with dedication and hard work, you can achieve your goals.\\n\\n\\nRemember, this is a roadmap, not a rigid plan.  Adapt it to your own journey and enjoy the learning process!\\n' additional_kwargs={} response_metadata={'token_usage': {'completion_tokens': 732, 'prompt_tokens': 18, 'total_tokens': 750, 'completion_time': 1.330909091, 'prompt_time': 0.00012532, 'queue_time': 0.01460101, 'total_time': 1.331034411}, 'model_name': 'Gemma2-9b-It', 'system_fingerprint': 'fp_10c08bf97d', 'finish_reason': 'stop', 'logprobs': None} id='run-eb745d4a-c2b9-401d-a0cc-b4bb743a8ec6-0' usage_metadata={'input_tokens': 18, 'output_tokens': 732, 'total_tokens': 750}\n",
            "Assistant: ##  Route Map to Become a Data Scientist:\n",
            "\n",
            "This map outlines a general path, remember to personalize it based on your own strengths, interests, and learning style.\n",
            "\n",
            "**Phase 1: Foundation Building (6-12 Months)**\n",
            "\n",
            "* **Math & Statistics:**\n",
            "    * **Calculus:**  Focus on derivatives, integrals, and multivariable calculus.\n",
            "    * **Linear Algebra:**  Master matrices, vectors, eigenvalues, and eigenvectors.\n",
            "    * **Probability & Statistics:**  Understand distributions, hypothesis testing, regression, and Bayesian inference.\n",
            "    * **Resources:** Khan Academy, Coursera, edX, textbooks (e.g., \"Introduction to Statistical Learning\")\n",
            "* **Programming:**\n",
            "    * **Python:**  Learn syntax, data structures, libraries like NumPy, Pandas, Matplotlib, and Scikit-learn.\n",
            "    * **R:**  (Optional) Explore for statistical analysis and visualization.\n",
            "    * **Resources:** Codecademy, DataCamp, freeCodeCamp, \"Python for Data Analysis\" by McKinney.\n",
            "\n",
            "**Phase 2: Data Science Core (6-12 Months)**\n",
            "\n",
            "* **Machine Learning:**\n",
            "    * **Supervised Learning:**  Regression, classification (logistic regression, decision trees, support vector machines, etc.).\n",
            "    * **Unsupervised Learning:** Clustering, dimensionality reduction (PCA, t-SNE).\n",
            "    * **Deep Learning:** (Optional) Neural networks, convolutional networks, recurrent networks.\n",
            "    * **Resources:** Andrew Ng's Machine Learning course (Coursera), \"Hands-On Machine Learning with Scikit-Learn, Keras & TensorFlow\" by Aurélien Géron.\n",
            "* **Data Wrangling & Visualization:**\n",
            "    * **Data Cleaning:**  Handling missing values, outliers, and inconsistencies.\n",
            "    * **Data Transformation:** Feature engineering, scaling, encoding.\n",
            "    * **Data Visualization:**  Creating informative charts and dashboards with libraries like Matplotlib, Seaborn, Plotly.\n",
            "    * **Resources:** \"Data Science from Scratch\" by Joel Grus, \"Storytelling with Data\" by Cole Nussbaumer Knaflic.\n",
            "\n",
            "**Phase 3: Specialization & Portfolio (Ongoing)**\n",
            "\n",
            "* **Choose a Domain:**  Healthcare, finance, marketing, etc.\n",
            "* **Deepen Expertise:**  Explore specialized algorithms, tools, and techniques relevant to your domain.\n",
            "* **Build a Portfolio:**\n",
            "    * **Personal Projects:**  Solve real-world problems using data science techniques.\n",
            "    * **Kaggle Competitions:**  Participate in data science challenges to gain experience and recognition.\n",
            "    * **Open-Source Contributions:**  Contribute to data science libraries or projects.\n",
            "\n",
            "**Phase 4: Career Development**\n",
            "\n",
            "* **Networking:**  Attend meetups, conferences, and online communities.\n",
            "* **Job Searching:**  Tailor your resume and portfolio to specific job descriptions.\n",
            "* **Interview Preparation:**  Practice technical and behavioral interview questions.\n",
            "* **Continuous Learning:**  Stay up-to-date with the latest trends and technologies in data science.\n",
            "\n",
            "**Bonus Tips:**\n",
            "\n",
            "* **Find a Mentor:**  Connect with experienced data scientists for guidance and support.\n",
            "* **Learn by Doing:**  Apply what you learn to real-world projects as much as possible.\n",
            "* **Be Persistent:**  Data science is a challenging field, but with dedication and hard work, you can achieve your goals.\n",
            "\n",
            "\n",
            "Remember, this is a roadmap, not a rigid plan.  Adapt it to your own journey and enjoy the learning process!\n",
            "\n",
            "User: Thank you\n",
            "dict_values([{'messages': AIMessage(content=\"You're welcome!\\n\\nIs there anything else I can help you with?\\n\", additional_kwargs={}, response_metadata={'token_usage': {'completion_tokens': 19, 'prompt_tokens': 11, 'total_tokens': 30, 'completion_time': 0.034545455, 'prompt_time': 7.608e-05, 'queue_time': 0.014573539, 'total_time': 0.034621535}, 'model_name': 'Gemma2-9b-It', 'system_fingerprint': 'fp_10c08bf97d', 'finish_reason': 'stop', 'logprobs': None}, id='run-87b0beab-07e8-4fca-9687-9ba57a6dfc95-0', usage_metadata={'input_tokens': 11, 'output_tokens': 19, 'total_tokens': 30})}])\n",
            "content=\"You're welcome!\\n\\nIs there anything else I can help you with?\\n\" additional_kwargs={} response_metadata={'token_usage': {'completion_tokens': 19, 'prompt_tokens': 11, 'total_tokens': 30, 'completion_time': 0.034545455, 'prompt_time': 7.608e-05, 'queue_time': 0.014573539, 'total_time': 0.034621535}, 'model_name': 'Gemma2-9b-It', 'system_fingerprint': 'fp_10c08bf97d', 'finish_reason': 'stop', 'logprobs': None} id='run-87b0beab-07e8-4fca-9687-9ba57a6dfc95-0' usage_metadata={'input_tokens': 11, 'output_tokens': 19, 'total_tokens': 30}\n",
            "Assistant: You're welcome!\n",
            "\n",
            "Is there anything else I can help you with?\n",
            "\n",
            "User: No\n",
            "dict_values([{'messages': AIMessage(content='No problem! Is there anything else I can help you with?\\n', additional_kwargs={}, response_metadata={'token_usage': {'completion_tokens': 16, 'prompt_tokens': 10, 'total_tokens': 26, 'completion_time': 0.029090909, 'prompt_time': 3.5e-07, 'queue_time': 0.014713018, 'total_time': 0.029091259}, 'model_name': 'Gemma2-9b-It', 'system_fingerprint': 'fp_10c08bf97d', 'finish_reason': 'stop', 'logprobs': None}, id='run-b490d2d4-fc2e-4125-bce0-9c3649418c5f-0', usage_metadata={'input_tokens': 10, 'output_tokens': 16, 'total_tokens': 26})}])\n",
            "content='No problem! Is there anything else I can help you with?\\n' additional_kwargs={} response_metadata={'token_usage': {'completion_tokens': 16, 'prompt_tokens': 10, 'total_tokens': 26, 'completion_time': 0.029090909, 'prompt_time': 3.5e-07, 'queue_time': 0.014713018, 'total_time': 0.029091259}, 'model_name': 'Gemma2-9b-It', 'system_fingerprint': 'fp_10c08bf97d', 'finish_reason': 'stop', 'logprobs': None} id='run-b490d2d4-fc2e-4125-bce0-9c3649418c5f-0' usage_metadata={'input_tokens': 10, 'output_tokens': 16, 'total_tokens': 26}\n",
            "Assistant: No problem! Is there anything else I can help you with?\n",
            "\n",
            "User: q\n",
            "Good Bye\n"
          ]
        }
      ]
    },
    {
      "cell_type": "code",
      "source": [],
      "metadata": {
        "id": "cH-ZmAjM8efX"
      },
      "execution_count": null,
      "outputs": []
    }
  ]
}